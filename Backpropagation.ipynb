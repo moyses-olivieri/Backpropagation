{
  "cells": [
    {
      "cell_type": "markdown",
      "metadata": {
        "id": "uJDhTNdYJpU9"
      },
      "source": [
        "# E05 - Backpropagation nos dados MNIST\n",
        "\n",
        "Neste exercício você irá implementar manualmente uma rede neural para o reconhecimento dos dígitos da base de dados MNIST. Esta base de dados consiste em imagens de dígitos manuscritos, contendo $60$ mil amostras para treinamento e $10$ mil amostras para teste. A imagem abaixo ilustra algumas dessas amostras.\n",
        "\n",
        "<center>\n",
        "<img src=\"https://drive.google.com/uc?id=1ZLiPiJcC6ptyPDKt-lVni-2N53ROZ1ju\" />\n",
        "</center>\n",
        "\n",
        "Para resolver este exercício, acompanhe passo a passo as etapas implementadas no código abaixo e siga as instruções ao final."
      ]
    },
    {
      "cell_type": "code",
      "execution_count": 1,
      "metadata": {
        "id": "7sXLurP3PYww"
      },
      "outputs": [],
      "source": [
        "#@title\n",
        "%%capture\n",
        "!pip install git+https://github.com/grading/gradememaybe.git\n",
        "!gdown '1d-4rY9RGzUQ4JdP0r9C_j7x4fu8GYeZ_'\n",
        "!unzip e05_ok.zip\n",
        "from gofer import ok"
      ]
    },
    {
      "cell_type": "markdown",
      "metadata": {
        "id": "OrgR4QVdZr0a"
      },
      "source": [
        "## Passo 1: Obtenção dos Dados\n",
        "\n",
        "Este código baixa os arquivos do [_dataset_ MNIST](https://en.wikipedia.org/wiki/MNIST_database) a partir do [site](http://yann.lecun.com/exdb/mnist/) do [Prof. Yann LeCun](https://en.wikipedia.org/wiki/Yann_LeCun)."
      ]
    },
    {
      "cell_type": "code",
      "execution_count": 2,
      "metadata": {
        "colab": {
          "base_uri": "https://localhost:8080/"
        },
        "id": "D1ysJPoDYhDm",
        "outputId": "9c9056dd-fed9-4732-d8ca-9473e3db52e9"
      },
      "outputs": [
        {
          "output_type": "stream",
          "name": "stdout",
          "text": [
            "--2023-01-12 18:16:41--  http://yann.lecun.com/exdb/mnist/train-images-idx3-ubyte.gz\n",
            "Resolving yann.lecun.com (yann.lecun.com)... 188.114.96.0, 188.114.97.0, 2a06:98c1:3120::, ...\n",
            "Connecting to yann.lecun.com (yann.lecun.com)|188.114.96.0|:80... connected.\n",
            "HTTP request sent, awaiting response... 200 OK\n",
            "Length: 9912422 (9.5M) [application/x-gzip]\n",
            "Saving to: ‘train-images-idx3-ubyte.gz’\n",
            "\n",
            "\r          train-ima   0%[                    ]       0  --.-KB/s               \rtrain-images-idx3-u 100%[===================>]   9.45M  --.-KB/s    in 0.05s   \n",
            "\n",
            "2023-01-12 18:16:42 (175 MB/s) - ‘train-images-idx3-ubyte.gz’ saved [9912422/9912422]\n",
            "\n",
            "--2023-01-12 18:16:42--  http://yann.lecun.com/exdb/mnist/train-labels-idx1-ubyte.gz\n",
            "Resolving yann.lecun.com (yann.lecun.com)... 188.114.96.0, 188.114.97.0, 2a06:98c1:3120::, ...\n",
            "Connecting to yann.lecun.com (yann.lecun.com)|188.114.96.0|:80... connected.\n",
            "HTTP request sent, awaiting response... 200 OK\n",
            "Length: 28881 (28K) [application/x-gzip]\n",
            "Saving to: ‘train-labels-idx1-ubyte.gz’\n",
            "\n",
            "train-labels-idx1-u 100%[===================>]  28.20K  --.-KB/s    in 0s      \n",
            "\n",
            "2023-01-12 18:16:42 (81.6 MB/s) - ‘train-labels-idx1-ubyte.gz’ saved [28881/28881]\n",
            "\n",
            "--2023-01-12 18:16:42--  http://yann.lecun.com/exdb/mnist/t10k-images-idx3-ubyte.gz\n",
            "Resolving yann.lecun.com (yann.lecun.com)... 188.114.96.0, 188.114.97.0, 2a06:98c1:3120::, ...\n",
            "Connecting to yann.lecun.com (yann.lecun.com)|188.114.96.0|:80... connected.\n",
            "HTTP request sent, awaiting response... 200 OK\n",
            "Length: 1648877 (1.6M) [application/x-gzip]\n",
            "Saving to: ‘t10k-images-idx3-ubyte.gz’\n",
            "\n",
            "t10k-images-idx3-ub 100%[===================>]   1.57M  --.-KB/s    in 0.02s   \n",
            "\n",
            "2023-01-12 18:16:42 (65.7 MB/s) - ‘t10k-images-idx3-ubyte.gz’ saved [1648877/1648877]\n",
            "\n",
            "--2023-01-12 18:16:42--  http://yann.lecun.com/exdb/mnist/t10k-labels-idx1-ubyte.gz\n",
            "Resolving yann.lecun.com (yann.lecun.com)... 188.114.96.0, 188.114.97.0, 2a06:98c1:3120::, ...\n",
            "Connecting to yann.lecun.com (yann.lecun.com)|188.114.96.0|:80... connected.\n",
            "HTTP request sent, awaiting response... 200 OK\n",
            "Length: 4542 (4.4K) [application/x-gzip]\n",
            "Saving to: ‘t10k-labels-idx1-ubyte.gz’\n",
            "\n",
            "t10k-labels-idx1-ub 100%[===================>]   4.44K  --.-KB/s    in 0s      \n",
            "\n",
            "2023-01-12 18:16:42 (551 MB/s) - ‘t10k-labels-idx1-ubyte.gz’ saved [4542/4542]\n",
            "\n"
          ]
        }
      ],
      "source": [
        "# Imagens de treinamento\n",
        "!wget http://yann.lecun.com/exdb/mnist/train-images-idx3-ubyte.gz -O train-images-idx3-ubyte.gz\n",
        "# Rótulos (classes)\n",
        "!wget http://yann.lecun.com/exdb/mnist/train-labels-idx1-ubyte.gz -O train-labels-idx1-ubyte.gz\n",
        "# Imagens de validação\n",
        "!wget http://yann.lecun.com/exdb/mnist/t10k-images-idx3-ubyte.gz -O t10k-images-idx3-ubyte.gz\n",
        "# Rótulos de validação (classes)\n",
        "!wget http://yann.lecun.com/exdb/mnist/t10k-labels-idx1-ubyte.gz -O t10k-labels-idx1-ubyte.gz"
      ]
    },
    {
      "cell_type": "markdown",
      "metadata": {
        "id": "h-9Bk13cH3Qp"
      },
      "source": [
        "Abaixo extraímos os arquivos comprimidos. "
      ]
    },
    {
      "cell_type": "code",
      "execution_count": 3,
      "metadata": {
        "id": "0Y07CnRjaJYU"
      },
      "outputs": [],
      "source": [
        "# Extrai os arquivos treinamento\n",
        "# (esse comando demora um pouco)\n",
        "!gunzip -f *.gz"
      ]
    },
    {
      "cell_type": "markdown",
      "metadata": {
        "id": "X4O4zi5lf04t"
      },
      "source": [
        "## Passo 2: Leitura dos Dados\n",
        "\n",
        "Abaixo definimos as funções auxiliares para leitura do arquivo de imagens"
      ]
    },
    {
      "cell_type": "code",
      "execution_count": 4,
      "metadata": {
        "id": "3-GlQ5rjbPwg"
      },
      "outputs": [],
      "source": [
        "import numpy as np\n",
        "from struct import unpack\n",
        "\n",
        "def read_imgs(img_filename):\n",
        "  ''' Esta função lê o arquivo de imagens\n",
        "      da base de dados MNIST\n",
        "  '''\n",
        "\n",
        "  # Abre o arquivo\n",
        "  img_file = open(img_filename,'rb')\n",
        "\n",
        "  # Lê o cabeçalho do arquivo\n",
        "  magic = unpack('>i', img_file.read(4))[0]\n",
        "  total = unpack('>i', img_file.read(4))[0]\n",
        "  height = unpack('>i', img_file.read(4))[0]\n",
        "  width = unpack('>i', img_file.read(4))[0]\n",
        "\n",
        "  # Verifica se o arquivo passa no teste\n",
        "  # básico (este número deve ser sempre 2051)\n",
        "  if magic != 2051:\n",
        "    print('Erro, este arquivo não parece ser um arquivo de imagens MNIST')\n",
        "\n",
        "  # Aqui criamos a array do NumPy que armazenará\n",
        "  # as imagens\n",
        "  imgs = np.zeros((total,height,width))\n",
        "\n",
        "  # Nesse laço vamos lendo cada pixel e preenchendo\n",
        "  # no array\n",
        "  for k in range(total): # Cada amostra k\n",
        "    for i in range(height): # Cada linha i\n",
        "      for j in range(width): # Cada coluna j\n",
        "        imgs[k,i,j] = ord(img_file.read(1)) # Lemos 1 byte\n",
        "  \n",
        "  # Retornamos o array preenchido\n",
        "  return imgs"
      ]
    },
    {
      "cell_type": "markdown",
      "metadata": {
        "id": "ex6SljeojCtM"
      },
      "source": [
        "De forma semelhante ao realizado acima, aqui abaixo definimos as funções auxiliares para leitura do arquivo de rótulos."
      ]
    },
    {
      "cell_type": "code",
      "execution_count": 5,
      "metadata": {
        "id": "gpK1CJ0mgAzn"
      },
      "outputs": [],
      "source": [
        "def read_labels(labels_filename):\n",
        "  ''' Esta função lê o arquivo de rótulos\n",
        "      da base de dados MNIST\n",
        "  '''\n",
        "\n",
        "  # Abre o arquivo\n",
        "  labels_file = open(labels_filename,'rb')\n",
        "\n",
        "  # Lê o cabeçalho do arquivo\n",
        "  magic = unpack('>i', labels_file.read(4))[0]\n",
        "  total = unpack('>i', labels_file.read(4))[0]\n",
        "\n",
        "  # Verifica se o arquivo passa no teste\n",
        "  # básico (este número deve ser sempre 2051)\n",
        "  if magic != 2049:\n",
        "    print('Erro, este arquivo não parece ser um arquivo de imagens MNIST')\n",
        "\n",
        "  # Aqui criamos a array do NumPy que armazenará\n",
        "  # as imagens\n",
        "  labels = np.zeros((total))\n",
        "\n",
        "  # Nesse laço vamos lendo cada label e preenchendo\n",
        "  # no array\n",
        "  for k in range(total): # Cada amostra k\n",
        "    labels[k] = ord(labels_file.read(1)) # Lemos 1 byte\n",
        "  \n",
        "  # Retornamos o array preenchido\n",
        "  return labels"
      ]
    },
    {
      "cell_type": "markdown",
      "metadata": {
        "id": "PgwpORvVjHBf"
      },
      "source": [
        "Nas linhas abaixo chamamos as função de leitura para carregar as imagens e os respectivos rótulos"
      ]
    },
    {
      "cell_type": "code",
      "execution_count": 6,
      "metadata": {
        "id": "JEEgfzZli9yF"
      },
      "outputs": [],
      "source": [
        "# Lê dados de treinamento\n",
        "imgs = read_imgs('train-images-idx3-ubyte')\n",
        "labels = read_labels('train-labels-idx1-ubyte')\n",
        "\n",
        "# Lê dados de validação\n",
        "imgs_val = read_imgs('t10k-images-idx3-ubyte')\n",
        "labels_val = read_labels('t10k-labels-idx1-ubyte')"
      ]
    },
    {
      "cell_type": "markdown",
      "metadata": {
        "id": "2VrUcPJsaYcV"
      },
      "source": [
        "## Passo 3: Entendendo os dados\n",
        "\n",
        "No bloco de código abaixo vamos examinar em detalhe como é o formato desses dados que acabamos de ler como tensores do NumPy."
      ]
    },
    {
      "cell_type": "code",
      "execution_count": 7,
      "metadata": {
        "colab": {
          "base_uri": "https://localhost:8080/"
        },
        "id": "EhdY9vfOZ7Dq",
        "outputId": "ac2eb967-1279-4af5-8349-b57604288c9e"
      },
      "outputs": [
        {
          "output_type": "stream",
          "name": "stdout",
          "text": [
            "Imagens de treinamento (60000, 28, 28)\n",
            "Etiquetas de treinamento (60000,)\n",
            "Imagens de validação (10000, 28, 28)\n",
            "Etiquetas de validação (10000,)\n"
          ]
        }
      ],
      "source": [
        "print('Imagens de treinamento', imgs.shape)\n",
        "print('Etiquetas de treinamento', labels.shape)\n",
        "print('Imagens de validação',imgs_val.shape)\n",
        "print('Etiquetas de validação', labels_val.shape)"
      ]
    },
    {
      "cell_type": "markdown",
      "metadata": {
        "id": "f88ng4joastd"
      },
      "source": [
        "### Passo 3.1: Imagens\n",
        "\n",
        "Podemos notar acima que as imagens são tensores de três dimensões, enquanto as etiquetas são vetores de uma única dimensão.\n",
        "\n",
        "Vamos examinar a estrutura do tensor `imgs` em maior detalhe na figura abaixo. Esse é um tensor de tamanho 60000x28x28. Podemos imaginar este tensor como uma pilha de imagens, onde a primeira coordenada seleciona uma das 60 mil imagens, e as próximas duas coordenadas indicam respectivamente a linha e a coluna referente ao píxel que queremos examinar. O valor ali contido é um inteiro representando uma escala de cinza no intervalo de 0 a 255, onde 0 representa o valor mais escuro e 255 o valor mais claro, respectivamente. Esse conceito é ilustrado na figura abaixo.\n",
        "\n",
        "<center>\n",
        "<img src=\"https://drive.google.com/uc?id=1E0w4hac4TmPx41pt8dBkzw3OIkVBDnWY\" width=\"400\"/>\n",
        "</center>\n",
        "\n",
        "A estrutura do tensor `imgs_val` é idêntica, exceto que este tensor contém apenas 10 mil imagens."
      ]
    },
    {
      "cell_type": "markdown",
      "metadata": {
        "id": "harypu-PJPUM"
      },
      "source": [
        "### Passo 3.2: Etiquetas\n",
        "\n",
        "Agora vamos dar uma olhada nas etiquetas `labels` e `labels_val`"
      ]
    },
    {
      "cell_type": "code",
      "execution_count": 8,
      "metadata": {
        "colab": {
          "base_uri": "https://localhost:8080/"
        },
        "id": "w2oHhkxzJVX8",
        "outputId": "2784c910-6aa4-4082-b7b8-e85c5445e3db"
      },
      "outputs": [
        {
          "output_type": "stream",
          "name": "stdout",
          "text": [
            "labels = [5. 0. 4. ... 5. 6. 8.] é um array de 60000 elementos\n",
            "labels_val = [7. 2. 1. ... 4. 5. 6.] é um array de 10000 elementos\n"
          ]
        }
      ],
      "source": [
        "print('labels =',labels,'é um array de',len(labels),'elementos')\n",
        "print('labels_val =',labels_val,'é um array de',len(labels_val),'elementos')"
      ]
    },
    {
      "cell_type": "markdown",
      "metadata": {
        "id": "0puSSrc_KEat"
      },
      "source": [
        "Como podemos observar acima, cada elemento de um array de etiquetas é um número inteiro entre 0 e 9. Para um índice `i` entre $0$ e $59999$, `labels[i]` representa a etiqueta da imagem em `imgs[i,:,:]`. O mesmo acontece entre `labels_val[i]` e `imgs_val[i]`, para índices entre $0$ e $9999$.\n",
        "\n",
        "Para verificar isso, podemos utilizar a função `imshow()` do módulo `pyplot`. Essa função recebe como entrada um array de duas dimensões, e mostra seus valores na tela na forma de uma imagem, onde o brilho de cada píxel corresponde ao valor na respectiva posição de linha e coluna do array."
      ]
    },
    {
      "cell_type": "code",
      "execution_count": 9,
      "metadata": {
        "id": "YJP0QNZwLu9V"
      },
      "outputs": [],
      "source": [
        "from matplotlib import pyplot as plt"
      ]
    },
    {
      "cell_type": "code",
      "execution_count": 10,
      "metadata": {
        "colab": {
          "base_uri": "https://localhost:8080/",
          "height": 813
        },
        "id": "4Nhb5RpMLyV8",
        "outputId": "1307a268-03f4-4c8f-c13c-e2d2755eba01"
      },
      "outputs": [
        {
          "output_type": "stream",
          "name": "stdout",
          "text": [
            "A imagem abaixo mostra o dígito 4.0\n"
          ]
        },
        {
          "output_type": "display_data",
          "data": {
            "text/plain": [
              "<Figure size 432x288 with 1 Axes>"
            ],
            "image/png": "[encoded data removed]"
          },
          "metadata": {
            "needs_background": "light"
          }
        },
        {
          "output_type": "stream",
          "name": "stdout",
          "text": [
            "A imagem abaixo mostra o dígito 3.0\n"
          ]
        },
        {
          "output_type": "display_data",
          "data": {
            "text/plain": [
              "<Figure size 432x288 with 1 Axes>"
            ],
            "image/png": "[encoded data removed]"
          },
          "metadata": {
            "needs_background": "light"
          }
        },
        {
          "output_type": "stream",
          "name": "stdout",
          "text": [
            "A imagem abaixo mostra o dígito 2.0\n"
          ]
        },
        {
          "output_type": "display_data",
          "data": {
            "text/plain": [
              "<Figure size 432x288 with 1 Axes>"
            ],
            "image/png": "[encoded data removed]"
          },
          "metadata": {
            "needs_background": "light"
          }
        }
      ],
      "source": [
        "# No laço abaixo sorteamos três amostras aleatórias\n",
        "# e mostramos a etiqueta e a respectiva imagem.\n",
        "for _ in range(3):\n",
        "  # Sorteamos uma amostra\n",
        "  i = np.random.randint(0,60000)\n",
        "  # Imprimimos a etiqueta e a respectiva imagem\n",
        "  print('A imagem abaixo mostra o dígito', labels[i])\n",
        "  plt.imshow(imgs[i,:,:],cmap='gray')\n",
        "  plt.show()"
      ]
    },
    {
      "cell_type": "markdown",
      "metadata": {
        "id": "ujNsuuc_NROj"
      },
      "source": [
        "## Passo 4: Embaralhamento das amostras\n",
        "\n",
        "Apesar que os dados MNIST baixados aqui já vêm embaralhados, é considerado uma boa prática sempre embaralhar os dados antes de utilizar. No código abaixo faça isso, embaralhando os pares `imgs` e `labels`, tomando o cuidado para que a amostra em cada posição mantenha a correspondência.\n",
        "\n",
        "\n",
        "\n"
      ]
    },
    {
      "cell_type": "code",
      "execution_count": 11,
      "metadata": {
        "colab": {
          "base_uri": "https://localhost:8080/"
        },
        "id": "cailF8ekfd8V",
        "outputId": "a43a7f0a-1af4-4909-ff69-28ee31237451"
      },
      "outputs": [
        {
          "output_type": "stream",
          "name": "stdout",
          "text": [
            "(60000,)\n"
          ]
        }
      ],
      "source": [
        "# Escreva aqui seu código para embaralhar\n",
        "# os pares de treinamento. Mantenha os mesmos\n",
        "# nomes de variáveis originais.\n",
        "\n",
        "indexes = list(range(60000))\n",
        "np.random.shuffle(indexes)\n",
        "\n",
        "for pos in indexes:\n",
        "  imgs[pos]=imgs[indexes[pos]]\n",
        "  labels[pos]=labels[indexes[pos]]\n",
        "\n",
        "\n",
        "\n",
        "print(labels.shape) \n",
        "\n"
      ]
    },
    {
      "cell_type": "code",
      "execution_count": 12,
      "metadata": {
        "colab": {
          "base_uri": "https://localhost:8080/",
          "height": 46
        },
        "id": "auAZ1jwRY1-7",
        "outputId": "476e7361-2954-47d1-e12a-1cb274fac4cf"
      },
      "outputs": [
        {
          "output_type": "execute_result",
          "data": {
            "text/plain": [
              "<gofer.ok.OKTestsResult at 0x7f57ebff5ca0>"
            ],
            "text/html": [
              "\n",
              "    \n",
              "    \n",
              "        <p>All tests passed!</p>\n",
              "    \n",
              "    "
            ]
          },
          "metadata": {},
          "execution_count": 12
        }
      ],
      "source": [
        "# Este teste avalia o embaralhamento\n",
        "ok.check('e05_1.py')"
      ]
    },
    {
      "cell_type": "markdown",
      "metadata": {
        "id": "tkyOV_z-fw7g"
      },
      "source": [
        "## Passo 5: Normalização\n",
        "\n",
        "Note que os dados de brilho de cada pixel são números inteiros convertidos de uma representação de $8$ bits. Isso significa que cada valor está no intervalo $0$ a $255$. No código abaixo, ajuste o intervalo de valores para essas entradas de forma que os valores fiquem no intervalo $0$ a $1$."
      ]
    },
    {
      "cell_type": "code",
      "execution_count": 13,
      "metadata": {
        "id": "EyPMGMZAgYfp"
      },
      "outputs": [],
      "source": [
        "# Escreva aqui seu código para normalizar\n",
        "# as imagens dos dados de treinamento, colocando\n",
        "# os valores no intervalo de 0 a 1\n",
        "\n",
        "imgs=imgs/255\n",
        "\n",
        "#validando\n",
        "\n",
        "imgs_val=imgs_val/255\n",
        "\n",
        "\n"
      ]
    },
    {
      "cell_type": "code",
      "execution_count": 14,
      "metadata": {
        "colab": {
          "base_uri": "https://localhost:8080/",
          "height": 46
        },
        "id": "vlICzR2xgkMK",
        "outputId": "da89ea5a-cc32-4f85-cb8a-fd7179f692d5"
      },
      "outputs": [
        {
          "output_type": "execute_result",
          "data": {
            "text/plain": [
              "<gofer.ok.OKTestsResult at 0x7f57e9c53be0>"
            ],
            "text/html": [
              "\n",
              "    \n",
              "    \n",
              "        <p>All tests passed!</p>\n",
              "    \n",
              "    "
            ]
          },
          "metadata": {},
          "execution_count": 14
        }
      ],
      "source": [
        "# Esse teste avalia a normalização\n",
        "ok.check('e05_2.py')"
      ]
    },
    {
      "cell_type": "markdown",
      "metadata": {
        "id": "Wcnsbat0k2-L"
      },
      "source": [
        "## Passo 6: One-Hot\n",
        "\n",
        "Agora você deve converter as etiquetas `labels` e `labels_val` para o formato _one-hot_. Mantenha os mesmos nomes de variável. O resultado deve ser os arrays `labels` com dimensões $60000 \\times 10$ e `labels_val` com $10000 \\times 10$.\n",
        "\n",
        "\n",
        "`0 => 1 0 0 0 0 0 0 0 0`\n",
        "\n",
        "`1 => 0 1 0 0 0 0 0 0 0`\n",
        "\n",
        "`2 => 0 0 1 0 0 0 0 0 0`\n",
        "\n",
        "`3 => 0 0 0 1 0 0 0 0 0`\n",
        "\n",
        "(...)"
      ]
    },
    {
      "cell_type": "code",
      "execution_count": 15,
      "metadata": {
        "colab": {
          "base_uri": "https://localhost:8080/"
        },
        "id": "pTerroaAlu-U",
        "outputId": "1578a233-357e-4020-ac03-0019833ecafd"
      },
      "outputs": [
        {
          "output_type": "execute_result",
          "data": {
            "text/plain": [
              "True"
            ]
          },
          "metadata": {},
          "execution_count": 15
        }
      ],
      "source": [
        "# Escreva aqui o código que converte os\n",
        "# arrays labels e labels_val para o formato\n",
        "# one-hot\n",
        "\n",
        "#Criando um array\n",
        "array =np.array([0,1,2,3,4,5,6,7,8,9])\n",
        "label=np.zeros((len(labels),10))\n",
        "label_val=np.zeros((len(labels_val),10))\n",
        "\n",
        "#percorrendo a label\n",
        "\n",
        "for i in range(len(labels)):\n",
        "  label[i][:]=array==labels[i].astype('uint8')\n",
        "\n",
        "for i in range(len(labels_val)):\n",
        "  label_val[i][:]=array==labels_val[i].astype('uint8')\n",
        "\n",
        "labels=label\n",
        "labels_val=label_val\n",
        "\n",
        "#retornando a soma\n",
        "np.sum(labels) == 60000\n",
        "\n",
        "\n",
        "\n"
      ]
    },
    {
      "cell_type": "code",
      "execution_count": 16,
      "metadata": {
        "colab": {
          "base_uri": "https://localhost:8080/",
          "height": 46
        },
        "id": "r2_gqLTAl2nA",
        "outputId": "75187899-db82-401a-b378-85bdd26079e3"
      },
      "outputs": [
        {
          "output_type": "execute_result",
          "data": {
            "text/plain": [
              "<gofer.ok.OKTestsResult at 0x7f5770424820>"
            ],
            "text/html": [
              "\n",
              "    \n",
              "    \n",
              "        <p>All tests passed!</p>\n",
              "    \n",
              "    "
            ]
          },
          "metadata": {},
          "execution_count": 16
        }
      ],
      "source": [
        "# Este teste avalia a conversão para\n",
        "# o formato one-hot\n",
        "ok.check('e05_3.py')"
      ]
    },
    {
      "cell_type": "markdown",
      "metadata": {
        "id": "jlrTTreNzJQl"
      },
      "source": [
        "## Passo 7: Função softmax\n",
        "\n",
        "Implemente a função _softmax_. Essa função deve ser definida com o nome `softmax(x)`, recebendo o parâmetro `x` que será um vetor coluna com `10` elementos. Essa função deve retornar a versão softmax desse vetor, ou seja, cada componente $i$ deve ser calculada como:\n",
        "\n",
        "<center>\n",
        "$\\frac{\\exp(x_i)}{\\sum_{j=0}^{9} \\exp(x_j)}$\n",
        "</center>"
      ]
    },
    {
      "cell_type": "code",
      "execution_count": 17,
      "metadata": {
        "id": "x_MYH0QWzEfX"
      },
      "outputs": [],
      "source": [
        "# Implemente aqui a função softmax\n",
        "\n",
        "def softmax(x): \n",
        "  f_x = np.exp(x) / np.sum(np.exp(x))\n",
        "  return f_x\n",
        "\n",
        "\n",
        "\n",
        "\n",
        "\n"
      ]
    },
    {
      "cell_type": "code",
      "execution_count": 18,
      "metadata": {
        "colab": {
          "base_uri": "https://localhost:8080/",
          "height": 46
        },
        "id": "mXZHuDc50jkV",
        "outputId": "a142d6dc-c3a0-4012-e0db-6a38d82331ea"
      },
      "outputs": [
        {
          "output_type": "execute_result",
          "data": {
            "text/plain": [
              "<gofer.ok.OKTestsResult at 0x7f5770424130>"
            ],
            "text/html": [
              "\n",
              "    \n",
              "    \n",
              "        <p>All tests passed!</p>\n",
              "    \n",
              "    "
            ]
          },
          "metadata": {},
          "execution_count": 18
        }
      ],
      "source": [
        "# Este teste avalia a função softmax\n",
        "ok.check('e05_4.py')"
      ]
    },
    {
      "cell_type": "markdown",
      "metadata": {
        "id": "MZQNESwPb-jC"
      },
      "source": [
        "## Passo 8: Função sigmoide\n",
        "\n",
        "Implemente a função de ativação _sigmoide_. Essa função deve ser definida com o nome `sigmoid(x)`, recebendo o parâmetro `x` que será um vetor coluna com `n` elementos. Essa função deve retornar um vetor de mesmas dimensões onde o valor de cada elemento é igual a:\n",
        "\n",
        "<center>\n",
        " $\\frac{1}{1 + \\exp(-x)}$\n",
        "</center>"
      ]
    },
    {
      "cell_type": "code",
      "execution_count": 19,
      "metadata": {
        "id": "nmPtJQ3Nd6D9"
      },
      "outputs": [],
      "source": [
        "# Implemente aqui a função sigmoide\n",
        "\n",
        "def sigmoid(x):\n",
        "  \n",
        "    z = np.exp(-x)\n",
        "    sig = 1 / (1 + z)\n",
        "\n",
        "    return sig\n",
        "\n",
        "\n",
        "\n",
        "\n",
        "\n"
      ]
    },
    {
      "cell_type": "code",
      "execution_count": 20,
      "metadata": {
        "colab": {
          "base_uri": "https://localhost:8080/",
          "height": 46
        },
        "id": "pzViNL20eBnK",
        "outputId": "7c95ba05-1a20-4d10-9e9d-928c72188ed4"
      },
      "outputs": [
        {
          "output_type": "execute_result",
          "data": {
            "text/plain": [
              "<gofer.ok.OKTestsResult at 0x7f57702c2160>"
            ],
            "text/html": [
              "\n",
              "    \n",
              "    \n",
              "        <p>All tests passed!</p>\n",
              "    \n",
              "    "
            ]
          },
          "metadata": {},
          "execution_count": 20
        }
      ],
      "source": [
        "# Este teste avalia a função sigmoide\n",
        "ok.check('e05_5.py')"
      ]
    },
    {
      "cell_type": "markdown",
      "metadata": {
        "id": "me3gTd3zknix"
      },
      "source": [
        "# Rede Neural\n",
        "\n",
        "Agora você começará a escrever o código que representa a classe que implementa a rede neural. Esta será uma rede neural estilo perceptron. A implementação seguirá vários passos. Para cada passo você deve ler as instruções e retornar a ao mesmo código desta classe, acrescentando as alterações necessárias para atender aquela etapa."
      ]
    },
    {
      "cell_type": "code",
      "execution_count": 21,
      "metadata": {
        "id": "E8WhQ55m7Krt"
      },
      "outputs": [],
      "source": [
        "# Implemente aqui, passo a passo, a classe de sua rede neural\n",
        "\n",
        "\n",
        "class Perceptron:\n",
        "  def __init__(self):\n",
        "    \n",
        "    #256 neuronios na primeira camada, 784 entradas com os pesos\n",
        "    self.W1 = np.random.random((256,784))*2.0 - 1.0\n",
        "    \n",
        "    #bias bx (b1,b2,b3)\n",
        "    self.b1 = np.random.random((256,1))*2.0 - 1.0\n",
        "\n",
        "    #64 neuronios\n",
        "    self.W2 = np.random.random((64,256))*2.0 - 1.0\n",
        "    self.b2 = np.random.random((64,1))*2.0 - 1.0\n",
        "\n",
        "    #10 neuronios\n",
        "    self.W3 = np.random.random((10,64))*2.0 - 1.0\n",
        "    self.b3 = np.random.random((10,1))*2.0 - 1.0\n",
        "\n",
        "  def forward(self,x):\n",
        "    #calcular a rede neural (saída)\n",
        "    \n",
        "    #W1*x + bias b1\n",
        "    self.s1 = np.dot(self.W1,x) + self.b1\n",
        "\n",
        "    #função de ativação\n",
        "    self.z1 = sigmoid(self.s1)\n",
        "\n",
        "    # W2*z1 + bias b2\n",
        "    self.s2 = np.dot(self.W2,self.z1) + self.b2\n",
        "\n",
        "    # resultado da função de ativação aplicado a s2\n",
        "    self.z2 = sigmoid(self.s2)\n",
        "\n",
        "    #W3*z2 + bias b3\n",
        "    self.s3 = np.dot(self.W3,self.z2) + self.b3\n",
        "    \n",
        "    #função de ativação\n",
        "    self.z3 = softmax(self.s3)\n",
        "\n",
        "    #retornar a rede neural\n",
        "    return self.z3\n",
        "\n",
        "  def backprop(self,x,y_des):\n",
        "    # descida do gradiente\n",
        "\n",
        "    # função de custo\n",
        "    self.ce = 0.0\n",
        "\n",
        "    #Aprendizagem\n",
        "    self.eta = 0.1\n",
        "    \n",
        "    # saída\n",
        "    self.y = self.forward(x)\n",
        "\n",
        "    #Erro\n",
        "    err = - np.sum(y_des*np.log(self.y))\n",
        "\n",
        "    #Erro total\n",
        "    self.ce = self.ce + err\n",
        "\n",
        "    #diferença y calculado - y desejado\n",
        "    self.d3 = (self.y - y_des)\n",
        "\n",
        "    # delta 2 \n",
        "    self.d2 = np.dot(self.W3.T, self.d3) * self.z2 * (1.0 - self.z2)\n",
        "\n",
        "    # delta 1\n",
        "    self.d1 = np.dot(self.W2.T, self.d2) * self.z1 * (1.0 - self.z1)\n",
        "\n",
        "#derivadas parciais (o gradiente)\n",
        "\n",
        "    self.db1=self.d1\n",
        "    self.db2=self.d2\n",
        "    self.db3=self.d3\n",
        "\n",
        "    self.dW1=np.dot(self.d1,x.T)\n",
        "\n",
        "    self.dW2=np.dot(self.d2,self.z1.T)\n",
        "\n",
        "    self.dW3=np.dot(self.d3,self.z2.T)\n",
        "\n",
        "\n",
        "    self.W3 = self.W3 - self.eta * self.dW3\n",
        "    self.b3 = self.b3 - self.eta * self.db3\n",
        "\n",
        "    self.W2 = self.W2 - self.eta * self.dW2\n",
        "    self.b2 = self.b2 - self.eta * self.db2\n",
        "\n",
        "    self.W1 = self.W1 - self.eta * self.dW1\n",
        "    self.b1 = self.b1 - self.eta * self.db1\n",
        "\n",
        "    return self.ce\n",
        "\n",
        "\n",
        "\n",
        "\n",
        "\n"
      ]
    },
    {
      "cell_type": "markdown",
      "metadata": {
        "id": "d07HpCy_qnV3"
      },
      "source": [
        "#### ATENÇÃO: Os passos abaixo devem ser todos implementados no código acima ###"
      ]
    },
    {
      "cell_type": "markdown",
      "metadata": {
        "id": "fp1a4Kcx7CPw"
      },
      "source": [
        "## Passo 9: Definição da Classe\n",
        "\n",
        "Crie uma classe de nome `Perceptron`. Essa classe deve incluir um construtor `__init__(self)` que não recebe parâmetro nenhum.\n",
        "\n",
        "No construtor vamos criar as matrizes de pesos e vetores de bias para uma rede neural com as seguintes características:\n",
        "- $28 \\times 28 = 784$ entradas (brilho dos pixels da imagem de uma das amostras, serializados num vetor coluna)\n",
        "- Camada de $256$ neurônios na primeira camada, com ativação sigmoide\n",
        "- Camada de $64$ neurônios na segunda camada, com ativação sigmoide\n",
        "- Camada de $10$ neurônios de saída na última camada, com ativação softmax\n",
        "\n",
        "A matriz dos pesos e vetores de bias de cada camada deverão ser chamados, respectivamente de: `w1`, `b1`, `w2`, `b2`, `w3`, `b3`. Crie e inicialize cada matriz de pesos e vetor de bias com valores aleatórios entre $-1$ e $+1$. Certifique-se de que cada uma dessas arrays tenha as dimensões corretas."
      ]
    },
    {
      "cell_type": "code",
      "execution_count": 22,
      "metadata": {
        "colab": {
          "base_uri": "https://localhost:8080/",
          "height": 46
        },
        "id": "DfSjyaXZ9wp8",
        "outputId": "8c5370ca-ea14-4e96-b5c8-1c98e80889cb"
      },
      "outputs": [
        {
          "output_type": "execute_result",
          "data": {
            "text/plain": [
              "<gofer.ok.OKTestsResult at 0x7f57702bd2e0>"
            ],
            "text/html": [
              "\n",
              "    \n",
              "    \n",
              "        <p>All tests passed!</p>\n",
              "    \n",
              "    "
            ]
          },
          "metadata": {},
          "execution_count": 22
        }
      ],
      "source": [
        "# Este teste avalia a definição da classe\n",
        "ok.check('e05_6.py')"
      ]
    },
    {
      "cell_type": "markdown",
      "metadata": {
        "id": "XbyQYMsN77aP"
      },
      "source": [
        "## Passo 10: Método `forward(x)`\n",
        "\n",
        "Agora crie o método `forward(x)` dentro da classe `Perceptron` (lembre que todos métodos que pertencem a classes, no Python, devem receber `self` como primeiro argumento, ou seja, na realidade o método é `forward(self,x)`). Esse método deve receber o vetor coluna `x` que é a imagem de uma amostra de um dígito da base de dados MNIST, com todos os valores de brilho dos píxels em um vetor coluna de $28 \\times 28 = 784$ linhas.\n",
        "\n",
        "Dentro desse método você deve seguir os seguintes passos:\n",
        "\n",
        "* Calcule os valores de `s1` a partir das entradas `x`, usando os pesos `W1` e bias `b1`.\n",
        "* Aplique a função de ativação sigmoide em `s1` para encontrar `z1`.\n",
        "* Calcule os valores de `s2` a partir das ativações `z1` usando os pesos `W2` e bias `b2`.\n",
        "* Aplique a função de ativação sigmoide em `s2` para encontrar `z2`\n",
        "* Calcule os valores de `s3` a partir das ativações `z2` usando os pesos `W3` e bias `b3`.\n",
        "* Aplique a função `softmax()` em `s3` para encontrar `z3`.\n",
        "* Garanta que todas essas $6$ variáveis, `s1`,`z1`,`s2`,`z2`,`s3`,`z3`, sejam variáveis membro (por exemplo, `self.s1 = ...`, etc)\n",
        "* Retorne `z3`\n"
      ]
    },
    {
      "cell_type": "code",
      "execution_count": 23,
      "metadata": {
        "colab": {
          "base_uri": "https://localhost:8080/",
          "height": 46
        },
        "id": "C2_PJUMNq1B8",
        "outputId": "0b0d0221-fb92-4bd5-f6de-7103da3a3174"
      },
      "outputs": [
        {
          "output_type": "execute_result",
          "data": {
            "text/plain": [
              "<gofer.ok.OKTestsResult at 0x7f57ea1adbb0>"
            ],
            "text/html": [
              "\n",
              "    \n",
              "    \n",
              "        <p>All tests passed!</p>\n",
              "    \n",
              "    "
            ]
          },
          "metadata": {},
          "execution_count": 23
        }
      ],
      "source": [
        "# Este teste avalia o método forward(x)\n",
        "ok.check('e05_7.py')"
      ]
    },
    {
      "cell_type": "markdown",
      "metadata": {
        "id": "HygZ3aZ7xzx5"
      },
      "source": [
        "## Passo 11: Backpropagation\n",
        "\n",
        "Finalmente, neste último passo, vamos implementar o algoritmo backpropagation nesta rede neural. Aqui consideramos minimizar o custo _entropia cruzada_ (CE - cross entropy).\n",
        "\n",
        "Para isso você vai seguir os seguintes passos:\n",
        "\n",
        "* Crie um método de nome `backprop(x,y_des)` que recebe o par `x` e `y_des`, onde `x` é a entrada e `y_des` é a respectiva saída desejada. Lembre sempre que métodos (funções que pertencem a classes) precisam do parâmetro obrigatório `self` (por exemplo `def backprop(self,x,y)`).\n",
        "\n",
        "* Dentro deste método, chame a função `forward(x)` com o valor de `x` que é a entrada do par passado no argumento. Salve o resultado da saída obtida na variável de nome `y`.\n",
        "\n",
        "* Dentro deste método, calcule o vetor de deltas $\\delta^3$ da camada de saída, dando o nome `d3`. Lembre que para uma camada de saída _softmax_, considerando custo CE, temos `d3` = `y - y_des`.\n",
        "\n",
        "* Calcule agora os deltas de trás para frente, descobrindo `d2` a partir de `d3`, e em seguida `d1` a partir de `d2`, usando para ambos a fórmula $\\delta^l=(W^{l+1})^T\\delta^{l+1}\\odot\\sigma'(s^l)$, lembrando que para a sigmoide, a derivada da função de ativação é $\\sigma'(s^l) = z^l (1 - z^l)$\n",
        "\n",
        "* Compute as matrizes e vetores de derivadas parciais (o gradiente) do custo em relação aos pesos e bias de todas camadas, usando essas fórmulas abaixo. Use os nomes `dW1`, `db1`, `dW2`, `db2`, `dW3`, `db3`.\n",
        "  \n",
        "  `dW..` = $\\frac{\\partial{E_{CE}}}{\\partial{W^l}} = \\delta^l \\times \\left(z^{l-1}\\right)^T $\n",
        "  \n",
        "  `db..` = $\\frac{\\partial{E_{CE}}}{\\partial{b^l}} = \\delta^l $\n",
        "\n",
        "* Considerando um passo `eta=0.1`, atualize os pesos e biases exatamente um passo na direção oposta.\n",
        "\n",
        "* Usando os valores de entrada `x`, `y_des` e a saída calculada `y`, calcule a função de custo entropia cruzada, na variável `ce`. Use esse valor como valor de retorno da função.\n",
        "\n",
        "* Grave as variáveis `y`, `d1`, `d2`, `d3`, `dW1`, `dW2`, `dW3`, `db1`, `db2`, `db3`, `ce` como variáveis membro da classe (use, por exemplo, `self.y = ...`)\n",
        "\n",
        "Atenção: não crie um laço. Faça essa implementação ajustando no sentido oposto do gradiente em apenas um passo."
      ]
    },
    {
      "cell_type": "code",
      "execution_count": 24,
      "metadata": {
        "colab": {
          "base_uri": "https://localhost:8080/",
          "height": 46
        },
        "id": "RZyICTVXH4B1",
        "outputId": "9ceb1728-77ee-456d-d8d6-9b12db84aa38"
      },
      "outputs": [
        {
          "output_type": "execute_result",
          "data": {
            "text/plain": [
              "<gofer.ok.OKTestsResult at 0x7f57702bdbe0>"
            ],
            "text/html": [
              "\n",
              "    \n",
              "    \n",
              "        <p>All tests passed!</p>\n",
              "    \n",
              "    "
            ]
          },
          "metadata": {},
          "execution_count": 24
        }
      ],
      "source": [
        "# Este teste avalia sua implementação do\n",
        "# algoritmo backpropagation\n",
        "ok.check('e05_8.py')"
      ]
    },
    {
      "cell_type": "markdown",
      "metadata": {
        "id": "hueBmOdhV3C_"
      },
      "source": [
        "# Treinando\n",
        "\n",
        "A função abaixo faz o treinamento da rede neural que você acabou de programar, em lotes."
      ]
    },
    {
      "cell_type": "code",
      "execution_count": 25,
      "metadata": {
        "id": "97LdoaGiV2U7"
      },
      "outputs": [],
      "source": [
        "def train_batch(p, X, Y_desired, batch_size=250):\n",
        "    ''' Esta função faz o treinamento da rede\n",
        "        neural, percorrendo todo dataset, por\n",
        "        lotes de 250 amostras\n",
        "\n",
        "        PS.: Aqui os lotes não importam muito\n",
        "             pois ajustamos os pesos um pouco\n",
        "             a para cada amostra individual.\n",
        "    '''\n",
        "\n",
        "    # Total de amostras\n",
        "    total = X.shape[0]\n",
        "\n",
        "    # Erro global vai ser somado aqui\n",
        "    Err = 0.0\n",
        "\n",
        "    # Vamos percorrer as amostras em lotes\n",
        "    for i in range(0,total,batch_size):\n",
        "\n",
        "      # Erro de cada lote\n",
        "      err_batch = 0.0\n",
        "\n",
        "      # Aqui neste laço vamos treinar o lote\n",
        "      for j in range(i,i+batch_size):\n",
        "\n",
        "        # Separamos os dados de entrada\n",
        "        x = np.reshape(X[j,:,:],(784,1))\n",
        "\n",
        "        # Separamos os dados de treinamento correspondentes\n",
        "        y_desired = np.reshape(Y_desired[j,:],(10,1))\n",
        "\n",
        "        # Calculamos o fator de correção dos pesos e biases\n",
        "        ce = p.backprop(x, y_desired)\n",
        "\n",
        "        # Computamos o erro do lote\n",
        "        err_batch += ce\n",
        "\n",
        "      # Normalização do erro do lote\n",
        "      err_batch /= batch_size\n",
        "\n",
        "      # Soma do erro do lote ao erro global\n",
        "      # já com fator de normalização\n",
        "      Err += err_batch / (total/batch_size)\n",
        "\n",
        "    return Err"
      ]
    },
    {
      "cell_type": "markdown",
      "metadata": {
        "id": "817-GbFnWrRq"
      },
      "source": [
        "A função abaixo roda o treinamento completo"
      ]
    },
    {
      "cell_type": "code",
      "execution_count": 26,
      "metadata": {
        "colab": {
          "base_uri": "https://localhost:8080/",
          "height": 538
        },
        "id": "u0PWv44SWpzD",
        "outputId": "32bf76f5-1b61-4096-97ac-e7c2f3c4a8b6"
      },
      "outputs": [
        {
          "output_type": "stream",
          "name": "stdout",
          "text": [
            "Elapsed time: 85.12042117118835 s Err: 0.30663649252223557\n",
            "Elapsed time: 86.18508458137512 s Err: 0.12801064995620332\n",
            "Elapsed time: 85.12855052947998 s Err: 0.07688003247838641\n",
            "Elapsed time: 84.8010036945343 s Err: 0.04756287286649169\n",
            "Elapsed time: 86.04697823524475 s Err: 0.031569743016747476\n",
            "Elapsed time: 84.41889715194702 s Err: 0.027111273598017877\n",
            "Elapsed time: 85.91690301895142 s Err: 0.016917001466507847\n"
          ]
        },
        {
          "output_type": "error",
          "ename": "KeyboardInterrupt",
          "evalue": "ignored",
          "traceback": [
            "\u001b[0;31m---------------------------------------------------------------------------\u001b[0m",
            "\u001b[0;31mKeyboardInterrupt\u001b[0m                         Traceback (most recent call last)",
            "\u001b[0;32m<ipython-input-26-761efdb9bac0>\u001b[0m in \u001b[0;36m<module>\u001b[0;34m\u001b[0m\n\u001b[1;32m     17\u001b[0m \u001b[0;34m\u001b[0m\u001b[0m\n\u001b[1;32m     18\u001b[0m   \u001b[0;31m# Aqui fazemos o treinamento\u001b[0m\u001b[0;34m\u001b[0m\u001b[0;34m\u001b[0m\u001b[0;34m\u001b[0m\u001b[0m\n\u001b[0;32m---> 19\u001b[0;31m   \u001b[0mErr\u001b[0m \u001b[0;34m=\u001b[0m \u001b[0mtrain_batch\u001b[0m\u001b[0;34m(\u001b[0m\u001b[0mp\u001b[0m\u001b[0;34m,\u001b[0m \u001b[0mimgs\u001b[0m\u001b[0;34m,\u001b[0m \u001b[0mlabels\u001b[0m\u001b[0;34m)\u001b[0m\u001b[0;34m\u001b[0m\u001b[0;34m\u001b[0m\u001b[0m\n\u001b[0m\u001b[1;32m     20\u001b[0m \u001b[0;34m\u001b[0m\u001b[0m\n\u001b[1;32m     21\u001b[0m   \u001b[0;31m# Mostramos os resultados parciais na tela\u001b[0m\u001b[0;34m\u001b[0m\u001b[0;34m\u001b[0m\u001b[0;34m\u001b[0m\u001b[0m\n",
            "\u001b[0;32m<ipython-input-25-43d398905b7c>\u001b[0m in \u001b[0;36mtrain_batch\u001b[0;34m(p, X, Y_desired, batch_size)\u001b[0m\n\u001b[1;32m     31\u001b[0m \u001b[0;34m\u001b[0m\u001b[0m\n\u001b[1;32m     32\u001b[0m         \u001b[0;31m# Calculamos o fator de correção dos pesos e biases\u001b[0m\u001b[0;34m\u001b[0m\u001b[0;34m\u001b[0m\u001b[0;34m\u001b[0m\u001b[0m\n\u001b[0;32m---> 33\u001b[0;31m         \u001b[0mce\u001b[0m \u001b[0;34m=\u001b[0m \u001b[0mp\u001b[0m\u001b[0;34m.\u001b[0m\u001b[0mbackprop\u001b[0m\u001b[0;34m(\u001b[0m\u001b[0mx\u001b[0m\u001b[0;34m,\u001b[0m \u001b[0my_desired\u001b[0m\u001b[0;34m)\u001b[0m\u001b[0;34m\u001b[0m\u001b[0;34m\u001b[0m\u001b[0m\n\u001b[0m\u001b[1;32m     34\u001b[0m \u001b[0;34m\u001b[0m\u001b[0m\n\u001b[1;32m     35\u001b[0m         \u001b[0;31m# Computamos o erro do lote\u001b[0m\u001b[0;34m\u001b[0m\u001b[0;34m\u001b[0m\u001b[0;34m\u001b[0m\u001b[0m\n",
            "\u001b[0;32m<ipython-input-21-31358539dcc0>\u001b[0m in \u001b[0;36mbackprop\u001b[0;34m(self, x, y_des)\u001b[0m\n\u001b[1;32m     53\u001b[0m \u001b[0;34m\u001b[0m\u001b[0m\n\u001b[1;32m     54\u001b[0m     \u001b[0;31m# saída\u001b[0m\u001b[0;34m\u001b[0m\u001b[0;34m\u001b[0m\u001b[0;34m\u001b[0m\u001b[0m\n\u001b[0;32m---> 55\u001b[0;31m     \u001b[0mself\u001b[0m\u001b[0;34m.\u001b[0m\u001b[0my\u001b[0m \u001b[0;34m=\u001b[0m \u001b[0mself\u001b[0m\u001b[0;34m.\u001b[0m\u001b[0mforward\u001b[0m\u001b[0;34m(\u001b[0m\u001b[0mx\u001b[0m\u001b[0;34m)\u001b[0m\u001b[0;34m\u001b[0m\u001b[0;34m\u001b[0m\u001b[0m\n\u001b[0m\u001b[1;32m     56\u001b[0m \u001b[0;34m\u001b[0m\u001b[0m\n\u001b[1;32m     57\u001b[0m     \u001b[0;31m#Erro\u001b[0m\u001b[0;34m\u001b[0m\u001b[0;34m\u001b[0m\u001b[0;34m\u001b[0m\u001b[0m\n",
            "\u001b[0;32m<ipython-input-21-31358539dcc0>\u001b[0m in \u001b[0;36mforward\u001b[0;34m(self, x)\u001b[0m\n\u001b[1;32m     23\u001b[0m \u001b[0;34m\u001b[0m\u001b[0m\n\u001b[1;32m     24\u001b[0m     \u001b[0;31m#W1*x + bias b1\u001b[0m\u001b[0;34m\u001b[0m\u001b[0;34m\u001b[0m\u001b[0;34m\u001b[0m\u001b[0m\n\u001b[0;32m---> 25\u001b[0;31m     \u001b[0mself\u001b[0m\u001b[0;34m.\u001b[0m\u001b[0ms1\u001b[0m \u001b[0;34m=\u001b[0m \u001b[0mnp\u001b[0m\u001b[0;34m.\u001b[0m\u001b[0mdot\u001b[0m\u001b[0;34m(\u001b[0m\u001b[0mself\u001b[0m\u001b[0;34m.\u001b[0m\u001b[0mW1\u001b[0m\u001b[0;34m,\u001b[0m\u001b[0mx\u001b[0m\u001b[0;34m)\u001b[0m \u001b[0;34m+\u001b[0m \u001b[0mself\u001b[0m\u001b[0;34m.\u001b[0m\u001b[0mb1\u001b[0m\u001b[0;34m\u001b[0m\u001b[0;34m\u001b[0m\u001b[0m\n\u001b[0m\u001b[1;32m     26\u001b[0m \u001b[0;34m\u001b[0m\u001b[0m\n\u001b[1;32m     27\u001b[0m     \u001b[0;31m#função de ativação\u001b[0m\u001b[0;34m\u001b[0m\u001b[0;34m\u001b[0m\u001b[0;34m\u001b[0m\u001b[0m\n",
            "\u001b[0;32m<__array_function__ internals>\u001b[0m in \u001b[0;36mdot\u001b[0;34m(*args, **kwargs)\u001b[0m\n",
            "\u001b[0;31mKeyboardInterrupt\u001b[0m: "
          ]
        }
      ],
      "source": [
        "import time\n",
        "\n",
        "# Aqui criamos a rede neural\n",
        "p = Perceptron()\n",
        "\n",
        "# Nesta lista gravaremos a evolução do erro\n",
        "# para plotar num gráfico mais tarde\n",
        "Errs = []\n",
        "\n",
        "# Treinaremos 10 épocas (cada época demora em torno de 2 min)\n",
        "for i in range(10):\n",
        "\n",
        "  # Marcamos o tempo de início para computar o tempo\n",
        "  # que demoramos para treinar cada época (isso ajuda\n",
        "  # a estimar o tempo total)\n",
        "  start_time = time.time()\n",
        "\n",
        "  # Aqui fazemos o treinamento\n",
        "  Err = train_batch(p, imgs, labels)\n",
        "\n",
        "  # Mostramos os resultados parciais na tela\n",
        "  print('Elapsed time:', time.time() - start_time, 's', \\\n",
        "        'Err:', Err)\n",
        "  \n",
        "  # Guardamos o erro calculado em cada época para\n",
        "  # plotar no gráfico em seguida\n",
        "  Errs.append(Err)"
      ]
    },
    {
      "cell_type": "markdown",
      "metadata": {
        "id": "jWzPz9eRW5pd"
      },
      "source": [
        "# Avaliação dos Resultados"
      ]
    },
    {
      "cell_type": "code",
      "execution_count": 27,
      "metadata": {
        "colab": {
          "base_uri": "https://localhost:8080/",
          "height": 265
        },
        "id": "VyQ0R0bsW8GD",
        "outputId": "c490ab27-3220-48f4-a6d1-24fe6aa6b393"
      },
      "outputs": [
        {
          "output_type": "display_data",
          "data": {
            "text/plain": [
              "<Figure size 432x288 with 1 Axes>"
            ],
            "image/png": "[encoded data removed]"
          },
          "metadata": {
            "needs_background": "light"
          }
        }
      ],
      "source": [
        "# Plotamos o gráfico da evolução do erro\n",
        "# no tempo. Esta é a chamada \"curva de\n",
        "# aprendizagem\"\n",
        "\n",
        "plt.plot(Errs)\n",
        "plt.show()"
      ]
    },
    {
      "cell_type": "markdown",
      "metadata": {
        "id": "WdSLgA5UXBO6"
      },
      "source": [
        "A função abaixo serve para calcular a taxa de acerto dessa rede neural"
      ]
    },
    {
      "cell_type": "code",
      "execution_count": 28,
      "metadata": {
        "id": "E-QlZ2rbXDgQ"
      },
      "outputs": [],
      "source": [
        "def accuracy(p, X, Y):\n",
        "  ''' Esta função vai calcular a taxa\n",
        "      de acerto da rede neural p\n",
        "      nos dados fornecidos\n",
        "  '''\n",
        "\n",
        "  # Contador de acertos\n",
        "  correct_count = 0\n",
        "\n",
        "  # Total de amostras\n",
        "  total = X.shape[0]\n",
        "\n",
        "  # Laço vai percorrer todas amostras\n",
        "  for k in range(total):\n",
        "\n",
        "    # Esta é a resposta que desejamos\n",
        "    correct_answer = np.argmax(Y[k,:])\n",
        "\n",
        "    # Esta é a resposta encontrada\n",
        "    guess = np.argmax(p.forward(np.reshape(X[k,:,:],(784,1))))\n",
        "\n",
        "    # Se ambas estiverem corretas\n",
        "    if correct_answer == guess:\n",
        "\n",
        "      # Contabilizamos como resposta correta\n",
        "      correct_count += 1\n",
        "\n",
        "  # Aqui retornamos o resultado\n",
        "  return correct_count / total"
      ]
    },
    {
      "cell_type": "markdown",
      "metadata": {
        "id": "QX_j8B41Xl-k"
      },
      "source": [
        "Aqui avaliamos a performance da rede neural nos próprios dados de treinamento."
      ]
    },
    {
      "cell_type": "code",
      "execution_count": 29,
      "metadata": {
        "id": "0bOGBb9-XrBz",
        "colab": {
          "base_uri": "https://localhost:8080/"
        },
        "outputId": "f5136453-9aa3-4b37-b9b6-3c8f422b729b"
      },
      "outputs": [
        {
          "output_type": "stream",
          "name": "stdout",
          "text": [
            "Taxa de acerto nos dados de treinamento: 99.54499999999999 %\n"
          ]
        }
      ],
      "source": [
        "print('Taxa de acerto nos dados de treinamento:', \\\n",
        "      100*accuracy(p, imgs, labels), '%')"
      ]
    },
    {
      "cell_type": "markdown",
      "metadata": {
        "id": "6_tH4GX3Xtvx"
      },
      "source": [
        "No código abaixo avaliamos a performance da rede neural nos dados de validação, que são dados nunca usados durante o treinamento."
      ]
    },
    {
      "cell_type": "code",
      "execution_count": 30,
      "metadata": {
        "id": "cWdf2fvNXwL0",
        "colab": {
          "base_uri": "https://localhost:8080/"
        },
        "outputId": "4a3a8d59-a568-48dc-a825-661256014ad7"
      },
      "outputs": [
        {
          "output_type": "stream",
          "name": "stdout",
          "text": [
            "Taxa de acerto nos dados de validação: 96.56 %\n"
          ]
        }
      ],
      "source": [
        "print('Taxa de acerto nos dados de validação:', \\\n",
        "      100*accuracy(p, imgs_val, labels_val), '%')"
      ]
    }
  ],
  "metadata": {
    "colab": {
      "provenance": []
    },
    "kernelspec": {
      "display_name": "Python 3",
      "name": "python3"
    },
    "accelerator": "GPU",
    "gpuClass": "standard"
  },
  "nbformat": 4,
  "nbformat_minor": 0
}